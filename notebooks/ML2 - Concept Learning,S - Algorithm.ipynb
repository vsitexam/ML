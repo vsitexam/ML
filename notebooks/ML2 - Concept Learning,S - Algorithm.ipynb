{
 "cells": [
  {
   "cell_type": "code",
   "execution_count": 1,
   "id": "277baf19",
   "metadata": {},
   "outputs": [],
   "source": [
    "##### S-Algorithm #####\n",
    "import csv\n",
    "num_attributes = 6\n",
    "a = []"
   ]
  },
  {
   "cell_type": "code",
   "execution_count": 2,
   "id": "51d3adb9",
   "metadata": {},
   "outputs": [
    {
     "name": "stdout",
     "output_type": "stream",
     "text": [
      "\n",
      " The Given Training Data Set \n",
      "\n",
      "['Sky', 'AirTemp', 'Humidity', 'Wind', 'Water', 'Forecast', 'EnjoySport']\n",
      "['Sunny', 'Warm', 'Normal', 'Strong', 'Warm', 'Same', 'Yes']\n",
      "['Sunny', 'Warm', 'High', 'Strong', 'Warm', 'Same', 'Yes']\n",
      "['Rainy', 'Cold', 'High', 'Strong', 'Warm', 'Change', 'No']\n",
      "['Sunny', 'Warm', 'High', 'Strong', 'Cool', 'Change', 'Yes']\n"
     ]
    }
   ],
   "source": [
    "print(\"\\n The Given Training Data Set \\n\")\n",
    "with open('E:/Downloads/enjoysport.csv','r') as csvfile:\n",
    "  reader = csv.reader(csvfile)\n",
    "  count=0\n",
    "  for row in reader:\n",
    "    if count == 0:\n",
    "      print (row) #heading\n",
    "      count+=1;\n",
    "    else:\n",
    "      a.append (row)\n",
    "      print(row)\n",
    "      count+=1;"
   ]
  },
  {
   "cell_type": "code",
   "execution_count": 3,
   "id": "8a222137",
   "metadata": {},
   "outputs": [
    {
     "name": "stdout",
     "output_type": "stream",
     "text": [
      "\n",
      " The initial value of hypothesis: \n",
      "['0', '0', '0', '0', '0', '0']\n"
     ]
    }
   ],
   "source": [
    "print(\"\\n The initial value of hypothesis: \")\n",
    "hypothesis = ['0'] * num_attributes\n",
    "print(hypothesis)"
   ]
  },
  {
   "cell_type": "code",
   "execution_count": 4,
   "id": "19886b44",
   "metadata": {},
   "outputs": [
    {
     "name": "stdout",
     "output_type": "stream",
     "text": [
      "['Sunny', '0', '0', '0', '0', '0']\n",
      "['Sunny', 'Warm', '0', '0', '0', '0']\n",
      "['Sunny', 'Warm', 'Normal', '0', '0', '0']\n",
      "['Sunny', 'Warm', 'Normal', 'Strong', '0', '0']\n",
      "['Sunny', 'Warm', 'Normal', 'Strong', 'Warm', '0']\n",
      "['Sunny', 'Warm', 'Normal', 'Strong', 'Warm', 'Same']\n"
     ]
    }
   ],
   "source": [
    "for j in range(0,num_attributes):\n",
    "  hypothesis[j] = a[0][j];\n",
    "  print(hypothesis)"
   ]
  },
  {
   "cell_type": "code",
   "execution_count": 5,
   "id": "3fa4a272",
   "metadata": {},
   "outputs": [
    {
     "name": "stdout",
     "output_type": "stream",
     "text": [
      "\n",
      " find S: finding a Maximally Specific Hypothesis\n",
      "\n",
      " For training Example No :0 the hypothesis is ['Sunny', 'Warm', 'Normal', 'Strong', 'Warm', 'Same']\n",
      " For training Example No :1 the hypothesis is ['Sunny', 'Warm', '?', 'Strong', 'Warm', 'Same']\n",
      " For training Example No :2 the hypothesis is ['Sunny', 'Warm', '?', 'Strong', 'Warm', 'Same']\n",
      " For training Example No :3 the hypothesis is ['Sunny', 'Warm', '?', 'Strong', '?', '?']\n"
     ]
    }
   ],
   "source": [
    "print(\"\\n find S: finding a Maximally Specific Hypothesis\\n\")\n",
    "for i in range(0,len(a)):\n",
    "  if a[i][num_attributes]=='Yes':\n",
    "    for j in range(0,num_attributes):\n",
    "      if a[i][j]!=hypothesis[j]:\n",
    "        hypothesis[j]='?'\n",
    "      else:\n",
    "        hypothesis[j]=a[i][j]\n",
    "  print(\" For training Example No :{0} the hypothesis is\".format(i),hypothesis)"
   ]
  },
  {
   "cell_type": "code",
   "execution_count": 6,
   "id": "37f95e69",
   "metadata": {},
   "outputs": [
    {
     "name": "stdout",
     "output_type": "stream",
     "text": [
      "['Sunny', 'Warm', '?', 'Strong', '?', '?']\n"
     ]
    }
   ],
   "source": [
    "print(hypothesis)"
   ]
  },
  {
   "cell_type": "code",
   "execution_count": null,
   "id": "81aefb69",
   "metadata": {},
   "outputs": [],
   "source": []
  }
 ],
 "metadata": {
  "kernelspec": {
   "display_name": "Python 3 (ipykernel)",
   "language": "python",
   "name": "python3"
  },
  "language_info": {
   "codemirror_mode": {
    "name": "ipython",
    "version": 3
   },
   "file_extension": ".py",
   "mimetype": "text/x-python",
   "name": "python",
   "nbconvert_exporter": "python",
   "pygments_lexer": "ipython3",
   "version": "3.9.12"
  }
 },
 "nbformat": 4,
 "nbformat_minor": 5
}
